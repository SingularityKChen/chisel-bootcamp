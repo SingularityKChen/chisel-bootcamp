{
 "cells": [
  {
   "cell_type": "markdown",
   "metadata": {},
   "source": [
    "<a name=\"top\"></a><img src=\"images/chisel_1024.png\" alt=\"Chisel logo\" style=\"width:480px;\" />"
   ]
  },
  {
   "cell_type": "markdown",
   "metadata": {},
   "source": [
    "# Module 2.6: Testers2\n",
    "**Prev | 上一个小节： [Control Flow | 控制流](2.3_control_flow.ipynb)**<br>\n",
    "**Next | 下一个小节： [Generators: Parameters | 生成器: 变量](3.1_parameters.ipynb)**\n",
    "\n",
    "## Motivation | 动机\n",
    "The Chisel team has been working on an improved testing framework. Imaginatively titled \"testers2\", it provides the following improvements .\n",
    "\n",
    "- suitable for both unit tests and system integration tests\n",
    "- designed for composable abstractions and layering\n",
    "- highly usable, encouraging unit tests by making it as easy, painless (avoiding boilerplate and other nonsense), and useful as possible to write them\n",
    "\n",
    "Chisel 团队已经在着手优化测试架构了。名字暂定为 \"testers2\"，它提供了如下的提升：\n",
    "\n",
    "+ 适合单元测试和系统集成测试\n",
    "+ 被设计成可组合的抽象和分层\n",
    "+ 非常有用，它被设计为简单、无痛苦（避免死板和其他无意义的内容）、易写的测试，使得单元测试更加简单。\n",
    "\n",
    "### Planned | 计划\n",
    "- ablity to target multiple backends and simulators (possibly requiring a link to Scala, if the testvector is not static, or using a limited test constructing API subset, when synthesizing to FPGA)\n",
    "- will be included in base chisel3, to avoid packaging and dependency nightmares\n",
    "\n",
    "\n",
    "+ 能够使用多种后端和仿真器（可能需要与 Scala 联系在一起，如果测试向量不是静态的话，或者需要综合到 FPGA 上时，可能需要使用一些特定的测试子集端口）\n",
    "+ 能够被包含在 chisel3 中，从而避免包以及依赖的问题\n",
    "\n",
    "\n",
    "## Setup | 设置"
   ]
  },
  {
   "cell_type": "code",
   "execution_count": null,
   "metadata": {},
   "outputs": [],
   "source": [
    "val path = System.getProperty(\"user.dir\") + \"/source/load-ivy.sc\"\n",
    "interp.load.module(ammonite.ops.Path(java.nio.file.FileSystems.getDefault().getPath(path)))"
   ]
  },
  {
   "cell_type": "code",
   "execution_count": null,
   "metadata": {},
   "outputs": [],
   "source": [
    "import chisel3._\n",
    "import chisel3.util._\n",
    "import chisel3.experimental._\n",
    "import chisel3.experimental.BundleLiterals._\n",
    "import chisel3.tester._\n",
    "import chisel3.tester.RawTester.test"
   ]
  },
  {
   "cell_type": "markdown",
   "metadata": {},
   "source": [
    ">This bootcamp requires some slight differences from the imports you might see \n",
    "elsewhere for chisel. The `import chisel3.tester.RawTester.test` brings in \n",
    "version of `test(...)` below that is designed specifically for the bootcamp\n",
    "\n",
    "> 这个教程需要引入一些不一样的包。 `import chisel3.tester.RawTester.test` \n",
    "将引入这个教程所特有的 `test(...)` 版本"
   ]
  },
  {
   "cell_type": "markdown",
   "metadata": {},
   "source": [
    "---\n",
    "# Basic Tester implementation | 基础测试实现\n",
    "\n",
    "Testers2 starts with the same basic operations as iotesters. Here's a brief summary of the basic\n",
    "functionality mapping between the older iotesters and the new testers2\n",
    "\n",
    "Testers2 最简单的操作跟 iotesters 中的相同。这里是一个两者功能对照的总结表。\n",
    "\n",
    "\n",
    "|        | iotesters             | testers2            |\n",
    "| :----  | :---                  | :---                |\n",
    "| poke   | poke(c.io.in1, 6)     | c.io.in1.poke(6.U)    |\n",
    "| peek   | peek(c.io.out1)       | c.io.out1.peek(6.U)   |\n",
    "| expect | expect(c.io.out1, 6)  | c.io.out1.expect(6.U) |\n",
    "| step   | step(1)               | c.io.clock.step(1)  |\n",
    "| initiate | Driver.execute(...) { c => | test(...) { c => |\n"
   ]
  },
  {
   "cell_type": "markdown",
   "metadata": {},
   "source": [
    "Let's start by looking at the simple pass through module from 2.1\n",
    "\n",
    "让我们从 2.1 小节中最简单的 pass through 模块开始"
   ]
  },
  {
   "cell_type": "code",
   "execution_count": null,
   "metadata": {},
   "outputs": [],
   "source": [
    "// Chisel Code, but pass in a parameter to set widths of ports\n",
    "class PassthroughGenerator(width: Int) extends Module { \n",
    "  val io = IO(new Bundle {\n",
    "    val in = Input(UInt(width.W))\n",
    "    val out = Output(UInt(width.W))\n",
    "  })\n",
    "  io.out := io.in\n",
    "}"
   ]
  },
  {
   "cell_type": "markdown",
   "metadata": {},
   "source": [
    "Using the old style a simple test would look like this\n",
    "\n",
    "如果使用老版本的测试可能是下面这个样子的：\n",
    "\n",
    "```scala\n",
    "val testResult = Driver(() => new Passthrough()) {\n",
    "  c => new PeekPokeTester(c) {\n",
    "    poke(c.io.in, 0)     // Set our input to value 0\n",
    "    expect(c.io.out, 0)  // Assert that the output correctly has 0\n",
    "    poke(c.io.in, 1)     // Set our input to value 1\n",
    "    expect(c.io.out, 1)  // Assert that the output correctly has 1\n",
    "    poke(c.io.in, 2)     // Set our input to value 2\n",
    "    expect(c.io.out, 2)  // Assert that the output correctly has 2\n",
    "  }\n",
    "}\n",
    "assert(testResult)   // Scala 代码: 如果 testResult == false, 将会报错\n",
    "println(\"成功!!\") // Scala 代码，如果我们运行到了这里，那么我们的验证就通过啦！\n",
    "```\n",
    "\n"
   ]
  },
  {
   "cell_type": "code",
   "execution_count": null,
   "metadata": {},
   "outputs": [],
   "source": [
    "test(new PassthroughGenerator(16)) { c =>\n",
    "    c.io.in.poke(0.U)     // Set our input to value 0\n",
    "    c.io.out.expect(0.U)  // Assert that the output correctly has 0\n",
    "    c.io.in.poke(1.U)     // Set our input to value 1\n",
    "    c.io.out.expect(1.U)  // Assert that the output correctly has 1\n",
    "    c.io.in.poke(2.U)     // Set our input to value 2\n",
    "    c.io.out.expect(2.U)  // Assert that the output correctly has 2\n",
    "}"
   ]
  },
  {
   "cell_type": "markdown",
   "metadata": {},
   "source": [
    ">Just to illustrate the way testers2 advances the clock we can\n",
    "add some `step` operations to the previous examples.\n",
    "\n",
    "> 在 testers2 中，我们可以使得时钟前进。比如在前面的例子中，我们可以加入一些 `step` 操作。"
   ]
  },
  {
   "cell_type": "code",
   "execution_count": null,
   "metadata": {},
   "outputs": [],
   "source": [
    "test(new PassthroughGenerator(16)) { c =>\n",
    "    c.io.in.poke(0.U)     // Set our input to value 0\n",
    "    c.clock.step(1)    // 使得时钟快进\n",
    "    c.io.out.expect(0.U)  // Assert that the output correctly has 0\n",
    "    c.io.in.poke(1.U)     // Set our input to value 1\n",
    "    c.clock.step(1)    // 使得时钟快进\n",
    "    c.io.out.expect(1.U)  // Assert that the output correctly has 1\n",
    "    c.io.in.poke(2.U)     // Set our input to value 2\n",
    "    c.clock.step(1)    // 使得时钟快进\n",
    "    c.io.out.expect(2.U)  // Assert that the output correctly has 2\n",
    "}"
   ]
  },
  {
   "cell_type": "markdown",
   "metadata": {},
   "source": [
    "---\n",
    "## What to notice in the above example | 在上面的例子中要注意什么\n",
    "\n",
    "Testers2 test method requires a bit less boiler plate. What was the `PeekPokeTester` is now\n",
    "built into the process.\n",
    "\n",
    "The `poke` and `expect` methods are now part of each individual `io` element.\n",
    "This gives important hints the the tester to make better checking of types.\n",
    "The `peek` and `step` operations are also now methods on `io` elements.\n",
    "\n",
    "Another difference is that values poked and expected are Chisel literals.\n",
    "Although pretty simple here, it also provides stronger checking in more advanced and interesting examples.\n",
    "This will be further enhanced with coming improvements in the ability to specify `Bundle` literals\n",
    "\n",
    "\n",
    "Testers2 测试方法没有那么的死板。之前的 `PeekPokeTester` 现在已经在进展中。\n",
    "\n",
    "现在 `poke` 和 `expect` 方法已经是每一个 `io` 元素的一部分了。\n",
    "这给了测试者检查变量类型一个非常重要的线索。\n",
    "`peek` 和 `step` 操作现在也是每一个 `io` 元素的一部分了。\n",
    " \n",
    "另外一个不同点在于变量 `poke` `peek` 的都是 Chisel 文本类型变量。\n",
    "尽管在这里不需要这么复杂，但是在一些更加高级和有趣的测试中，这也提供了一个很重要的检查依据。\n",
    "在未来的优化中，一些特殊 `Bundle` 文本类型的变量将会有进一步的提升。\n"
   ]
  },
  {
   "cell_type": "markdown",
   "metadata": {},
   "source": [
    "# Modules with Decoupled Interfaces | 带有 Decoupled 端口\n",
    "In this section we will look at some of the tester2's tools for working with `Decoupled` interfaces.\n",
    "`Decoupled` takes a chisel data type and provides it with `ready` and `valid` signals.\n",
    "Testers2 provides some nice tools for automating and reliably testing these interfaces.\n",
    "\n",
    "在本小节中，我们将会看一些 testers2 对 `Decoupled` 端口测试的例子。\n",
    "`Decoupled` 需要一个 chisel 数据类型，并且提供 `ready` 和 `valid` 信号。\n",
    "Testers2 为自动化地、可靠地测试这些端口提供了一些很棒的工具。\n",
    "\n",
    "\n",
    "## A queue example | 一个队列例子\n",
    "The `QueueModule` passes through data whose type is determined by `ioType`. There are `entries` state elements inside the `QueueModule` meaning it can hold that many elements before it exerts backpressure.\n",
    "\n",
    "`QueueModule` 模块传递类型为 `ioType`的数据。在 `QueueModule` 中有 `entries` 个排队的元素，这意味着在它在产生背压时能够保持这么多个元素。"
   ]
  },
  {
   "cell_type": "code",
   "execution_count": null,
   "metadata": {},
   "outputs": [],
   "source": [
    "case class QueueModule[T <: Data](ioType: T, entries: Int) extends MultiIOModule {\n",
    "  val in = IO(Flipped(Decoupled(ioType)))\n",
    "  val out = IO(Decoupled(ioType))\n",
    "  out <> Queue(in, entries)\n",
    "}\n"
   ]
  },
  {
   "cell_type": "markdown",
   "metadata": {},
   "source": [
    "> Note the `case` class modifer is not generally required but seems to be in order for\n",
    "this example to be re-used in multiple cells in Jupyter\n",
    "\n",
    "> 注意，通常 案例类 并不是需要的，但是为了在 Jupyer 中可以被多个代码块使用，我们在这个例子中就需要加上它。"
   ]
  },
  {
   "cell_type": "markdown",
   "metadata": {},
   "source": [
    "## EnqueueNow and expectDequeueNow\n",
    "*testers2* has some built in methods for dealing with circuits with Decoupled interfaces in the IOs. In this example we will see how to insert and extract values from the `queue`. \n",
    "\n",
    "*testers2* 有一些自带的处理 Decoupled 端口的方法。在这个例子中，我们将会看到怎么样从队列中输入和提取值。\n",
    "\n",
    "| method | description |\n",
    "| :---   | :---        |\n",
    "| enqueueNow | Add (enqueue) one element to a `Decoupled` input interface |\n",
    "| expectDequeueNow | Removes (dequeues) one element from a `Decoupled` output interface |\n",
    "---\n",
    "\n",
    "\n",
    ">Note: There is some required boiler plate `initSource`, `setSourceClock`, etc that is necessary to ensure that the `ready` and `valid` fields are\n",
    "all initialized correctly at the beginning of the test.\n",
    "\n",
    "> 注意：我们有一些死板的参数需要设置，比如`initSource`, `setSourceClock`等。这是为了确保`ready` 和 `valid` 信号在测试开始的时候被正确地初始化了。\n"
   ]
  },
  {
   "cell_type": "code",
   "execution_count": null,
   "metadata": {},
   "outputs": [],
   "source": [
    "test(QueueModule(UInt(9.W), entries = 200)) { c =>\n",
    "    // Example testsequence showing the use and behavior of Queue\n",
    "    c.in.initSource()\n",
    "    c.in.setSourceClock(c.clock)\n",
    "    c.out.initSink()\n",
    "    c.out.setSinkClock(c.clock)\n",
    "    \n",
    "    val testVector = Seq.tabulate(200){ i => i.U }\n",
    "\n",
    "    testVector.zip(testVector).foreach { case (in, out) =>\n",
    "      c.in.enqueueNow(in)\n",
    "      c.out.expectDequeueNow(out)\n",
    "    }\n",
    "}"
   ]
  },
  {
   "cell_type": "markdown",
   "metadata": {},
   "source": [
    "## EnqueueSeq and DequeueSeq \n",
    "Now we are going to introduce two new methods that deal with enqueuing and dequeuing operations in single operations.\n",
    "\n",
    "现在我们要介绍两个新的方法，它们能够通过一次操作进行连续的入队、出队。\n",
    "\n",
    "| method | description |\n",
    "| :---   | :---        |\n",
    "| enqueueSeq | Continues to add (enqueue) elements from the `Seq` to a `Decoupled` input interface, one at a time, until the sequence is exhausted |\n",
    "| expectDequeueSeq | Removes (dequeues) elements from a `Decoupled` output interface, one at a time, and compares each one to the next element of the `Seq` |\n",
    "---\n",
    "\n",
    "> Note: The example below works fine but, as written, the `enqueueSeq` must finish before the `expectDequeueSeq` can begin. This example would fail if the `testVector`'s size is made larger than the queue depth, because the queue would fill up and not be able to complete the `enqueueSeq`. Try it yourself to see what the failure looks like. In the next section we will show to construct this type of test properly.\n",
    "\n",
    "> 注意：下面的这个例子虽然能够成功运行但是，在 `expectDequeueSeq` 开始前， `enqueueSeq` 必须结束。如果 `testVector` 比队列的深度更大，那么这个例子将会失败。因为队列将会被填满，所以不能够完成 `enqueueSeq`。你可以自己去尝试错误的时候会发生什么。在下一个小节中我们将会展示怎么样合适地构造这种类型的测试。"
   ]
  },
  {
   "cell_type": "code",
   "execution_count": null,
   "metadata": {},
   "outputs": [],
   "source": [
    "test(QueueModule(UInt(9.W), entries = 200)) { c =>\n",
    "    // Example testsequence showing the use and behavior of Queue\n",
    "    c.in.initSource()\n",
    "    c.in.setSourceClock(c.clock)\n",
    "    c.out.initSink()\n",
    "    c.out.setSinkClock(c.clock)\n",
    "    \n",
    "    val testVector = Seq.tabulate(100){ i => i.U }\n",
    "\n",
    "    c.in.enqueueSeq(testVector)\n",
    "    c.out.expectDequeueSeq(testVector)\n",
    "}"
   ]
  },
  {
   "cell_type": "markdown",
   "metadata": {},
   "source": [
    "> One more important takeaway from the last section is that the functions we just saw, `enqueueNow`, \n",
    "`enqueueSeq`, `expectDequeueNow`, and `expectDequeueSeq` are not complicated special case logic in testers2.\n",
    "Rather they are examples of the kinds of harness building that testers2 encourages you to build from the testers2 primitives. To see how these methods are implemented check out [TestAdapters.scala](https://github.com/ucb-bar/chisel-testers2/blob/d199c5908828d0be5245f55fce8a872b2afb314e/src/main/scala/chisel3/tester/TestAdapters.scala)\n",
    "\n",
    "> 在最后一个小节中，另外一个重要的感想是，我们刚刚看到的这些函数，`enqueueNow`, \n",
    "`enqueueSeq`, `expectDequeueNow`, 和 `expectDequeueSeq` ，都不是在 testers2 里面复杂的、特殊的实例逻辑。\n",
    "但它们却是 testers2 鼓励你从基本操作里面构建新的测试逻辑的例子。从 [TestAdapters.scala](https://github.com/ucb-bar/chisel-testers2/blob/d199c5908828d0be5245f55fce8a872b2afb314e/src/main/scala/chisel3/tester/TestAdapters.scala) 可以看到它们实现的逻辑。"
   ]
  },
  {
   "cell_type": "markdown",
   "metadata": {},
   "source": [
    "# Fork and Join in testers2"
   ]
  },
  {
   "cell_type": "markdown",
   "metadata": {},
   "source": [
    "In this section we will look at running sections of a unit test concurrently. In order to do this we will introduce two new features of testers2.\n",
    "\n",
    "在本小节中，我们将会看到同时测试一个模块的例子。为了实现它，我们要介绍两个 testers2 里面的新功能。\n",
    "\n",
    "| method | description |\n",
    "| :---   | :---        |\n",
    "| fork   | launches a concurrent code block, additional forks can be run concurrently to this one via the .fork appended to end of the code block of the preceeding fork |\n",
    "| join | re-unites multiple related forks back into the calling thread |\n",
    "---\n",
    "\n",
    "In the example below two `fork`s are chained together, and then `join`ed. In the first `fork` block the `enqueueSeq` will continue to add elements until exhausted. The second `fork` block will `expectDequeueSeq` on each cycle when data is available.\n",
    "\n",
    ">The threads created by fork are run in a deterministic order, largely according to their order as specified in code, and certain bug-prone operations that depend on other threads are forbidden with runtime checks. \n",
    "\n",
    "在下面的例子中，两个 `fork` 被联系在一起，然后被 `join`。第一个 `fork` 模块里 `enqueueSeq` 将会持续地向队列里输入一个元素，直到结束。第二个`fork` 模块里，当数据可用时，每一个时钟周期都将会 `expectDequeueSeq`。\n"
   ]
  },
  {
   "cell_type": "code",
   "execution_count": null,
   "metadata": {},
   "outputs": [],
   "source": [
    "\n",
    "test(QueueModule(UInt(9.W), entries = 200)) { c =>\n",
    "    // Example testsequence showing the use and behavior of Queue\n",
    "    c.in.initSource()\n",
    "    c.in.setSourceClock(c.clock)\n",
    "    c.out.initSink()\n",
    "    c.out.setSinkClock(c.clock)\n",
    "    \n",
    "    val testVector = Seq.tabulate(300){ i => i.U }\n",
    "\n",
    "    fork {\n",
    "        c.in.enqueueSeq(testVector)\n",
    "    }.fork {\n",
    "        c.out.expectDequeueSeq(testVector)\n",
    "    }.join()\n",
    "}"
   ]
  },
  {
   "cell_type": "markdown",
   "metadata": {},
   "source": [
    "## Using Fork and Join with GCD\n",
    "In this section we will use the fork join methods to implement tests of *Greatest Common Denominator* **GCD**.\n",
    "Let's start by defining our IO bundles. We are going to add a bit of boiler plate here to allow us to use `Bundle` *literals*. As the comments say, it is hoped that we will soon have support for autogeneration of the literal support code.\n",
    "\n",
    "在本小节中，我们将会使用 fork 和 join 方法来实现*最大公因数* **GCD** 的测试。\n",
    "让我们从定义我们的 IO 开始。我们将会在这里添加一些刻板的东西，使得我们可以使用`Bundle` *文本变量*。\n",
    "正如注释中讲的那样，我们希望可以早些得到支持`Bundle` *文本变量*类型的代码。也即是`Decoupled(new GcdOutputBundle(width))`。"
   ]
  },
  {
   "cell_type": "code",
   "execution_count": null,
   "metadata": {},
   "outputs": [],
   "source": [
    "class GcdInputBundle(val w: Int) extends Bundle {\n",
    "  val value1 = UInt(w.W)\n",
    "  val value2 = UInt(w.W)\n",
    "}"
   ]
  },
  {
   "cell_type": "code",
   "execution_count": null,
   "metadata": {},
   "outputs": [],
   "source": [
    "class GcdOutputBundle(val w: Int) extends Bundle {\n",
    "  val value1 = UInt(w.W)\n",
    "  val value2 = UInt(w.W)\n",
    "  val gcd    = UInt(w.W)\n",
    "}"
   ]
  },
  {
   "cell_type": "markdown",
   "metadata": {},
   "source": [
    "Now let's look at a *Decoupled* version of **GCD**. We've modified it a bit here to use the `Decoupled` wrapper that adds a `ready` and a `valid` signal to the input and output Bundle. The `Flipped` wrapper takes the `Decoupled` `GcdInputBundle` which by default is created as an output and converts each field to the opposite direction (recursively). The data elements of the bundled arguments to `Decoupled` are placed in the top level field `bits`. \n",
    "\n",
    "现在我们来看看一个 *Decoupled* 版本的 **GCD**。在这里我们已经修改了一点点以使用 `Decoupled` 封装器，这可以给输入和输出端口添加一个`ready` 和一个 `valid` 信号。 `Flipped` 封装器包裹 `Decoupled` `GcdInputBundle`，因为它默认是一个输出；使用这个封装器后它的方向就反过来了（递归地）。在 bundle 里面的参数被 `Decoupled` 调整到顶部 `bits` 变量里了。"
   ]
  },
  {
   "cell_type": "code",
   "execution_count": null,
   "metadata": {},
   "outputs": [],
   "source": [
    "/**\n",
    "  * Compute GCD using subtraction method.\n",
    "  * Subtracts the smaller of registers x and y from the larger until register y is zero.\n",
    "  * value input register x is then the Gcd\n",
    "  * returns a packet of information with the two input values and their GCD\n",
    "  */\n",
    "class DecoupledGcd(width: Int) extends MultiIOModule {\n",
    "\n",
    "  val input = IO(Flipped(Decoupled(new GcdInputBundle(width))))\n",
    "  val output = IO(Decoupled(new GcdOutputBundle(width)))\n",
    "\n",
    "  val xInitial    = Reg(UInt())\n",
    "  val yInitial    = Reg(UInt())\n",
    "  val x           = Reg(UInt())\n",
    "  val y           = Reg(UInt())\n",
    "  val busy        = RegInit(false.B)\n",
    "  val resultValid = RegInit(false.B)\n",
    "\n",
    "  input.ready := ! busy\n",
    "  output.valid := resultValid\n",
    "  output.bits := DontCare\n",
    "\n",
    "  when(busy)  {\n",
    "    // during computation keep subtracting the smaller from the larger\n",
    "    when(x > y) {\n",
    "      x := x - y\n",
    "    }.otherwise {\n",
    "      y := y - x\n",
    "    }\n",
    "    when(y === 0.U) {\n",
    "      // when y becomes zero computation is over, signal valid data to output\n",
    "      output.bits.gcd := x\n",
    "      output.bits.value1 := xInitial\n",
    "      output.bits.value2 := yInitial\n",
    "      output.bits.gcd := x\n",
    "      output.valid := true.B\n",
    "      busy := false.B\n",
    "    }\n",
    "  }.otherwise {\n",
    "    when(input.valid) {\n",
    "      // valid data available and no computation in progress, grab new values and start\n",
    "      val bundle = input.deq()\n",
    "      x := bundle.value1\n",
    "      y := bundle.value2\n",
    "      xInitial := bundle.value1\n",
    "      yInitial := bundle.value2\n",
    "      busy := true.B\n",
    "      resultValid := false.B\n",
    "    }\n",
    "  }\n",
    "}\n"
   ]
  },
  {
   "cell_type": "markdown",
   "metadata": {},
   "source": [
    "Our test looks pretty much the same as the earlier Queue tests.\n",
    "But there's more going on because the computation take multiple cycles so the input enqueue process is blocked as each GCD is computed.\n",
    "The good news is that test side of this is simple and consistent across different Decoupled circuits.\n",
    "\n",
    "Also introduced here is the new Chisel3 `Bundle` literal notation. Consider the line\n",
    "\n",
    "```scala\n",
    "new GcdInputBundle(16)).Lit(_.value1 -> x.U, _.value2 -> y.U)\n",
    "```\n",
    "`GcdInputBundle` defined above has two fields `value1` and `value2`.\n",
    "We create a bundle literal by first creating a bundle then calling its `.Lit` method.\n",
    "That method takes a variable argument list of key/value pairs, where the key (e.g. `_.value`) is the field name and the value (e.g. x.U) is a chisel hardware literal, the Scala `Int` x is converted into a Chisel `UInt` literal.\n",
    "The `_.` in front of the field name is necessary to bind the name value to the bundle internals. \n",
    "\n",
    ">This may not be the perfect notation but in extensive development discussions it was viewed as\n",
    "the best balance between minimizing boilerplate and the notational limitations available in Scala.\n",
    "\n",
    "\n",
    "我们的测试看起来就像之前队列测试一样棒。\n",
    "但是有更多需要改进的地方，因为计算要花数个周期，所以当 GCD 在计算的时候，输入是被无视的。\n",
    "好消息是这个的测试端是比较简单的，并且在不同的端口都是恒定不变的。\n",
    "\n",
    "在这里也介绍一下新的 Chisel3 `Bundle` 文字记号。思考下面这行代码：\n",
    "\n",
    "```scala\n",
    "new GcdInputBundle(16)).Lit(_.value1 -> x.U, _.value2 -> y.U)\n",
    "```\n",
    "在上面定义的`GcdInputBundle`中，有两个文本变量 `value1` and `value2`。\n",
    "我们首先创建一个 bundle，然后调用`.Lit`方法，创造了一个 `Bundle` 文本变量。\n",
    "这个方法需要一个键/值对变量列表，键（比如说`_.value`）是应用的变量名，值（比如说 x.U）是 chisel 硬件文本变量，Scala `Int` x 将会被转变为一个 chisel 的 `UInt` 文本变量。\n",
    "在每一个应用的变量名前面的`_.`用来绑定变量名以及 bundle 内部。\n",
    "\n",
    "> 这可能并不是一个很棒的记号，但是在扩展发展讨论中，这被看作是最小化刻板语句以及 Scala 记号使用限制之间最好的平衡。"
   ]
  },
  {
   "cell_type": "code",
   "execution_count": null,
   "metadata": {},
   "outputs": [],
   "source": [
    "test(new DecoupledGcd(16)) { dut =>\n",
    "  dut.input.initSource().setSourceClock(dut.clock)\n",
    "  dut.output.initSink().setSinkClock(dut.clock)\n",
    "\n",
    "  val testValues = for { x <- 1 to 10; y <- 1 to 10} yield (x, y)\n",
    "  val inputSeq = testValues.map { case (x, y) =>\n",
    "    (new GcdInputBundle(16)).Lit(_.value1 -> x.U, _.value2 -> y.U)\n",
    "  }\n",
    "  val resultSeq = testValues.map { case (x, y) =>\n",
    "    new GcdOutputBundle(16).Lit(_.value1 -> x.U, _.value2 -> y.U, _.gcd -> BigInt(x).gcd(BigInt(y)).U)\n",
    "  }\n",
    "\n",
    "  fork {\n",
    "    dut.input.enqueueSeq(inputSeq)\n",
    "  }.fork {\n",
    "    dut.output.expectDequeueSeq(resultSeq)\n",
    "  }.join()\n",
    "}\n"
   ]
  },
  {
   "cell_type": "markdown",
   "metadata": {},
   "source": [
    "---\n",
    "# You're done! | 恭喜你，完成了本节内容的学习！\n",
    "\n",
    "[Return to the top. | 回到顶层](#top)"
   ]
  }
 ],
 "metadata": {
  "kernelspec": {
   "display_name": "Scala",
   "language": "scala",
   "name": "scala"
  },
  "language_info": {
   "codemirror_mode": "text/x-scala",
   "file_extension": ".scala",
   "mimetype": "text/x-scala",
   "name": "scala",
   "nbconvert_exporter": "script",
   "version": "2.12.8"
  }
 },
 "nbformat": 4,
 "nbformat_minor": 2
}
